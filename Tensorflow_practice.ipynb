{
  "nbformat": 4,
  "nbformat_minor": 0,
  "metadata": {
    "colab": {
      "name": "Tensorflow practice.ipynb",
      "provenance": [],
      "collapsed_sections": [],
      "authorship_tag": "ABX9TyN3HgNI+jO0l3/wVmtV0D3V",
      "include_colab_link": true
    },
    "kernelspec": {
      "name": "python3",
      "display_name": "Python 3"
    },
    "language_info": {
      "name": "python"
    }
  },
  "cells": [
    {
      "cell_type": "markdown",
      "metadata": {
        "id": "view-in-github",
        "colab_type": "text"
      },
      "source": [
        "<a href=\"https://colab.research.google.com/github/Chirag314/EDA/blob/main/Tensorflow_practice.ipynb\" target=\"_parent\"><img src=\"https://colab.research.google.com/assets/colab-badge.svg\" alt=\"Open In Colab\"/></a>"
      ]
    },
    {
      "cell_type": "code",
      "execution_count": null,
      "metadata": {
        "id": "sVnMSmXZnql9"
      },
      "outputs": [],
      "source": [
        "import tensorflow as tf\n",
        "from tensorflow.keras.preprocessing.image import ImageDataGenerator"
      ]
    },
    {
      "cell_type": "code",
      "source": [
        "# Create file directory object and set the director where logs will be saved\n",
        "logdir='logs/'\n",
        "writer=tf.summary.create_file_writer(logdir)"
      ],
      "metadata": {
        "id": "6Tn0m8HKoDLo"
      },
      "execution_count": null,
      "outputs": []
    },
    {
      "cell_type": "code",
      "source": [
        "#Initialize image data generateor boject\n",
        "train_datagen=ImageDataGenerator(rescale=1./255)"
      ],
      "metadata": {
        "id": "klySz_mlongm"
      },
      "execution_count": null,
      "outputs": []
    },
    {
      "cell_type": "code",
      "source": [
        "# Accuracy, precision , recall, F1\n",
        "from tensorflow.keras.metrics import Precision, Recall\n",
        "preds = [1,1,1,1,0,0]\n",
        "target=[1,0,1,0,1,0]\n",
        "prec=Precision()\n",
        "prec.update_state(preds, target)\n",
        "print(f'Precision : {prec.result().numpy()}')\n",
        "rec=Recall()\n",
        "rec.update_state(preds,target)\n",
        "print(f'Recall: {rec.result().numpy()}')\n"
      ],
      "metadata": {
        "colab": {
          "base_uri": "https://localhost:8080/"
        },
        "id": "7nqlGd36DOTz",
        "outputId": "4288fa2c-1b8c-426c-9104-d9067799a9eb"
      },
      "execution_count": 3,
      "outputs": [
        {
          "output_type": "stream",
          "name": "stdout",
          "text": [
            "Precision : 0.6666666865348816\n",
            "Recall: 0.5\n"
          ]
        }
      ]
    },
    {
      "cell_type": "code",
      "source": [
        "# Confusion matrix\n",
        "from tensorflow.math import confusion_matrix\n",
        "preds=[1,1,1,1,0,0]\n",
        "target=[1,0,1,0,1,0]\n",
        "\n",
        "print(confusion_matrix(target,preds))\n"
      ],
      "metadata": {
        "colab": {
          "base_uri": "https://localhost:8080/"
        },
        "id": "-m0hW74eDLbl",
        "outputId": "ab0fa65c-809a-428b-bc71-24a2170e5259"
      },
      "execution_count": 4,
      "outputs": [
        {
          "output_type": "stream",
          "name": "stdout",
          "text": [
            "tf.Tensor(\n",
            "[[1 2]\n",
            " [1 2]], shape=(2, 2), dtype=int32)\n"
          ]
        }
      ]
    }
  ]
}