{
  "nbformat": 4,
  "nbformat_minor": 0,
  "metadata": {
    "colab": {
      "name": "Useful code.ipynb",
      "provenance": [],
      "collapsed_sections": [],
      "authorship_tag": "ABX9TyOYo2ImdU+9txQVPvLf9CIP",
      "include_colab_link": true
    },
    "kernelspec": {
      "name": "python3",
      "display_name": "Python 3"
    },
    "language_info": {
      "name": "python"
    }
  },
  "cells": [
    {
      "cell_type": "markdown",
      "metadata": {
        "id": "view-in-github",
        "colab_type": "text"
      },
      "source": [
        "<a href=\"https://colab.research.google.com/github/Chirag314/EDA/blob/main/Useful_code.ipynb\" target=\"_parent\"><img src=\"https://colab.research.google.com/assets/colab-badge.svg\" alt=\"Open In Colab\"/></a>"
      ]
    },
    {
      "cell_type": "markdown",
      "source": [
        "##Pandas basics\n",
        "Delete rows with NAN values\n",
        ">1.axis: Default – 0\n",
        "0, or ‘index’ : Drop rows which contain NaN values.\n",
        "1, or ‘columns’ : Drop columns which contain NaN value.\n",
        ">2.how: Default – ‘any’\n",
        "‘any’ : Drop rows / columns which contain any NaN values.\n",
        "‘all’ : Drop rows / columns which contain all NaN values.\n",
        ">3.thresh (int): Optional\n",
        "Delete rows/columns which contains less than minimun thresh number of non-NaN values.\n",
        ">4.inplace (bool): Default- False\n",
        "If True, modifies the calling dataframe object\n",
        "\n",
        "\n",
        "Returns\n",
        "\n",
        "If inplace==True, the return None, else returns a new dataframe by deleting the rows/columns based on NaN values\n",
        "you must add inplace = True argument, if you want the dataframe to be actually updated."
      ],
      "metadata": {
        "id": "QP5HaKbEI5BI"
      }
    },
    {
      "cell_type": "code",
      "execution_count": null,
      "metadata": {
        "id": "ZVJAF2xZIvHK"
      },
      "outputs": [],
      "source": [
        "#Pandas delete rows with NAN values\n",
        "DataFrame.dropna(axis=0, how='any', thresh=None, subset=None, inplace=False)"
      ]
    },
    {
      "cell_type": "code",
      "source": [
        "# Drop rows which contain all NaN values\n",
        "df = df.dropna(axis=0, how='all')"
      ],
      "metadata": {
        "id": "eEu26wPHK4fB"
      },
      "execution_count": null,
      "outputs": []
    },
    {
      "cell_type": "code",
      "source": [
        "\n",
        "#If you want to select rows with at least one NaN value, then you could use isna + any on axis=1:\n",
        "\n",
        "df[df.isna().any(axis=1)]\n",
        "#If you want to select rows with a certain number of NaN values, then you could use isna + sum on axis=1 + gt. For example, the following will fetch rows with at least 2 NaN values:\n",
        "\n",
        "df[df.isna().sum(axis=1)>1]\n",
        "\n",
        "# Select not NaN values\n",
        "df[df.notna().all(axis=1)]"
      ],
      "metadata": {
        "id": "lpwrXpCTM400"
      },
      "execution_count": null,
      "outputs": []
    },
    {
      "cell_type": "code",
      "source": [
        "#For a dataframe df, one can use any of the following: Number of rows in dataframe\n",
        "df.shape\n",
        "len(df.index)\n",
        "len(df.comlumns)# To find out number of columns\n",
        "df.shape[0]\n",
        "df[df.columns[0]].count() (== number of non-NaN values in first column)\n",
        "count_row = df.shape[0]  # Gives number of rows\n",
        "count_col = df.shape[1]  # Gives number of columns\n",
        "r, c = df.shape"
      ],
      "metadata": {
        "id": "s8OBL57nReev"
      },
      "execution_count": null,
      "outputs": []
    },
    {
      "cell_type": "code",
      "source": [
        "# Delete rows with a condition.\n",
        "#Delete all rows if a row contains 3 missing values\n",
        "df.drop(df[df.isna().sum(axis=1)==3].index,inplace=True)\n",
        "\n",
        "#To remove all rows where column 'score' is < 50 and > 20\n",
        "#The operators are: | for or, & for and, and ~ for not. These must be grouped by using parentheses.\n",
        "df = df.drop(df[(df.score < 50) & (df.score > 20)].index)\n"
      ],
      "metadata": {
        "id": "r455qNCgaQT0"
      },
      "execution_count": null,
      "outputs": []
    },
    {
      "cell_type": "code",
      "source": [
        "# Change pandas display option in editor\n",
        "\n",
        "pd.set_option('display.max_rows', 500)\n",
        "pd.set_option('display.max_columns', 500)\n",
        "pd.set_option('display.width', 1000)\n",
        "\n",
        "# To display all columns in wide format so that they dont print in different pages if more columns.\n",
        "# Default option is True--> set it False to display all columns in wide format.\n",
        "pd.set_option('display.expand_frame_repr', False)"
      ],
      "metadata": {
        "id": "ArSAT1x3d3Gq"
      },
      "execution_count": null,
      "outputs": []
    },
    {
      "cell_type": "code",
      "source": [
        "# Convert NN output probability to boolean values.\n",
        "test2.loc[test2['Trans'] < 0.5, 'Transported'] = 'False' \n",
        "test2.loc[test2['Trans'] >= 0.5, 'Transported'] = 'True' \n",
        "test2.drop('Trans',axis=1,inplace=True)"
      ],
      "metadata": {
        "id": "B925e_ZhNz63"
      },
      "execution_count": null,
      "outputs": []
    },
    {
      "cell_type": "code",
      "source": [
        "#To find out unique values within columns\n",
        "x.iloc[:,3].unique() # All unique values in column 3\n",
        "temp.Pclass.unique()"
      ],
      "metadata": {
        "id": "_DxN-opXrWdo"
      },
      "execution_count": null,
      "outputs": []
    },
    {
      "cell_type": "code",
      "source": [
        "#Convert numeric values to float\n",
        "numeric_list = df.select_dtypes(include=[np.number]).columns\n",
        "df[numeric_list] = df[numeric_list].astype(np.float32)"
      ],
      "metadata": {
        "id": "SmxA_Q4j7jqO"
      },
      "execution_count": null,
      "outputs": []
    },
    {
      "cell_type": "code",
      "source": [
        "# set floating point option to display 4 decimals.\n",
        "\n",
        "pd.set_option('display.float_format', lambda x: '%.4f' % x)"
      ],
      "metadata": {
        "id": "bnGqncNjtTtO"
      },
      "execution_count": null,
      "outputs": []
    },
    {
      "cell_type": "code",
      "source": [
        "# Check how many data is type of object\n",
        "\n",
        "df_data.select_dtypes(['object']).head()"
      ],
      "metadata": {
        "id": "dXICP9Ys3UQ-"
      },
      "execution_count": null,
      "outputs": []
    },
    {
      "cell_type": "code",
      "source": [
        "# Find the frequency of dataframe columns\n",
        "\n",
        "df1 = df['Courses'].value_counts()\n",
        "df1 = df.Courses.value_counts\n",
        "df1 = df.groupby('Courses').count()\n",
        "df1 = df.index.value_counts()"
      ],
      "metadata": {
        "id": "LF1rrZC4OCZ4"
      },
      "execution_count": null,
      "outputs": []
    },
    {
      "cell_type": "code",
      "source": [
        "# Transform all object and boolean column to integer\n",
        "for colname in x_train.select_dtypes(['object','bool']).columns:\n",
        "  x_train[colname]=LabelEncoder().fit_transform(x_train[colname])\n"
      ],
      "metadata": {
        "id": "Ar2vqdqa0_yI"
      },
      "execution_count": null,
      "outputs": []
    },
    {
      "cell_type": "code",
      "source": [
        "# Drop whole column\n",
        "train=train.drop(['Age'].index,inplace=True)"
      ],
      "metadata": {
        "id": "4J-e26q5q5al"
      },
      "execution_count": null,
      "outputs": []
    },
    {
      "cell_type": "code",
      "source": [
        "# LEts check correlation matric to find out which features are important in prediction survival\n",
        "\n",
        "corrMatrix = train.corr()\n",
        "sns.heatmap(corrMatrix, annot=True)\n",
        "plt.show()\n"
      ],
      "metadata": {
        "id": "kFFbttYxvg0S"
      },
      "execution_count": null,
      "outputs": []
    },
    {
      "cell_type": "code",
      "source": [
        "# Cross tab frequency table\n",
        "train.groupby(['Fare', 'Survived'])['Fare'].count().unstack()"
      ],
      "metadata": {
        "id": "kbkpZjDhyC45"
      },
      "execution_count": null,
      "outputs": []
    },
    {
      "cell_type": "code",
      "source": [
        "# Use of min max scaler in data which is not normal and has a range of values such as pixel values\n",
        "# Use of standard scaler when data is normally distributed.\n",
        "from sklearn.preprocessing import MinMaxScale\n",
        "scaler=MinMaxScaler()\n",
        "train['Fare']=scaler.fit_transform(train[['Fare']])"
      ],
      "metadata": {
        "id": "W7p2mPlb4Tto"
      },
      "execution_count": null,
      "outputs": []
    },
    {
      "cell_type": "code",
      "source": [
        "# Impute missing values with mode for fare in test data\n",
        "mode=train['Embarked'].value_counts().index[0]\n",
        "train['Embarked']=train['Embarked'].fillna(mode)\n",
        "train.isnull().sum()"
      ],
      "metadata": {
        "id": "J0IPuN0H6nrI"
      },
      "execution_count": null,
      "outputs": []
    },
    {
      "cell_type": "code",
      "source": [
        "# Draw barplot with cross tab freq values.\n",
        "ax=sns.countplot(data=temp,x='Pclass',hue='Survived')\n",
        "ax.bar_label(ax.containers[0])\n",
        "ax.bar_label(ax.containers[1])\n",
        "plt.legend(title='Survived or not',loc='upper left',labels=['No','Yes'])"
      ],
      "metadata": {
        "id": "Smai-73RpsDN"
      },
      "execution_count": null,
      "outputs": []
    },
    {
      "cell_type": "code",
      "source": [
        "# Convert data to categories categories\n",
        "  data['Age']=pd.cut(data['Age'],bins=[0,12,20,40,120], labels=['Children','Teenage','Adult','Elder'])"
      ],
      "metadata": {
        "id": "TorY3W_9yqAG"
      },
      "execution_count": null,
      "outputs": []
    }
  ]
}