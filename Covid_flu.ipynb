{
  "nbformat": 4,
  "nbformat_minor": 0,
  "metadata": {
    "colab": {
      "provenance": [],
      "authorship_tag": "ABX9TyN/4YmbPR1ZRmzWJxKNqa/U",
      "include_colab_link": true
    },
    "kernelspec": {
      "name": "python3",
      "display_name": "Python 3"
    },
    "language_info": {
      "name": "python"
    }
  },
  "cells": [
    {
      "cell_type": "markdown",
      "metadata": {
        "id": "view-in-github",
        "colab_type": "text"
      },
      "source": [
        "<a href=\"https://colab.research.google.com/github/Chirag314/EDA/blob/main/Covid_flu.ipynb\" target=\"_parent\"><img src=\"https://colab.research.google.com/assets/colab-badge.svg\" alt=\"Open In Colab\"/></a>"
      ]
    },
    {
      "cell_type": "markdown",
      "source": [
        "Covid+flue dataset from book -Feature Engineering bootcamp"
      ],
      "metadata": {
        "id": "BEpsSTpAtqL7"
      }
    },
    {
      "cell_type": "code",
      "source": [
        "# Read data from github. Use raw format and copy url# Note normal url and raw url will be different.\n",
        "import pandas as pd\n",
        "pd.options.display.max_rows=None\n",
        "pd.options.display.max_columns=None\n",
        "url = 'https://raw.githubusercontent.com/sinanuozdemir/feature_engineering_bookcamp/main/data/covid_flu.csv'\n",
        "df= pd.read_csv(url)\n",
        "#df = pd.read_csv(url)\n",
        "print(df.head(5))"
      ],
      "metadata": {
        "id": "qaeY-HS-vGRE",
        "colab": {
          "base_uri": "https://localhost:8080/"
        },
        "outputId": "1a19d229-7a17-40fb-95ee-52973d710c71"
      },
      "execution_count": 23,
      "outputs": [
        {
          "output_type": "stream",
          "name": "stdout",
          "text": [
            "  Diagnosis InitialPCRDiagnosis   Age Sex  neutrophil  \\\n",
            "0      H1N1                 NaN  67.0   F         NaN   \n",
            "1      H1N1                 NaN  29.0   M         NaN   \n",
            "2      H1N1                 NaN  22.0   F         NaN   \n",
            "3      H1N1                 NaN  20.0   F         NaN   \n",
            "4      H1N1                 NaN  21.0   M         NaN   \n",
            "\n",
            "   serumLevelsOfWhiteBloodCell  lymphocytes CReactiveProteinLevels  \\\n",
            "0                          NaN          NaN                    NaN   \n",
            "1                          NaN          NaN                    NaN   \n",
            "2                          NaN          NaN                    NaN   \n",
            "3                          NaN          NaN                    NaN   \n",
            "4                          NaN          NaN                    NaN   \n",
            "\n",
            "   DurationOfIllness CTscanResults RiskFactors GroundGlassOpacity Diarrhea  \\\n",
            "0                NaN           NaN         NaN                NaN      NaN   \n",
            "1                NaN           NaN         NaN                NaN      NaN   \n",
            "2                NaN           NaN         NaN                NaN      NaN   \n",
            "3                NaN           NaN      immuno                NaN      NaN   \n",
            "4                NaN           NaN         NaN                NaN      NaN   \n",
            "\n",
            "  Fever Coughing ShortnessOfBreath SoreThroat NauseaVomitting  Temperature  \\\n",
            "0   Yes      Yes               NaN         No             NaN    38.111111   \n",
            "1   NaN      NaN               NaN        NaN             NaN          NaN   \n",
            "2   NaN      NaN               NaN        NaN             NaN          NaN   \n",
            "3   Yes      Yes               NaN         No             NaN    36.555556   \n",
            "4   NaN      NaN               NaN        NaN             NaN          NaN   \n",
            "\n",
            "  Fatigue  \n",
            "0      No  \n",
            "1     NaN  \n",
            "2     NaN  \n",
            "3     Yes  \n",
            "4     NaN  \n"
          ]
        }
      ]
    },
    {
      "cell_type": "code",
      "source": [
        "# Check missing values\n",
        "print(df.isnull().mean())"
      ],
      "metadata": {
        "colab": {
          "base_uri": "https://localhost:8080/"
        },
        "id": "7RwZ7CZin1Qo",
        "outputId": "e3188281-6dc2-406f-bc3c-7816ab5ee83f"
      },
      "execution_count": 24,
      "outputs": [
        {
          "output_type": "stream",
          "name": "stdout",
          "text": [
            "Diagnosis                      0.000000\n",
            "InitialPCRDiagnosis            0.929825\n",
            "Age                            0.018893\n",
            "Sex                            0.051282\n",
            "neutrophil                     0.930499\n",
            "serumLevelsOfWhiteBloodCell    0.898111\n",
            "lymphocytes                    0.894737\n",
            "CReactiveProteinLevels         0.907557\n",
            "DurationOfIllness              0.941296\n",
            "CTscanResults                  0.892713\n",
            "RiskFactors                    0.858974\n",
            "GroundGlassOpacity             0.937247\n",
            "Diarrhea                       0.696356\n",
            "Fever                          0.377193\n",
            "Coughing                       0.420378\n",
            "ShortnessOfBreath              0.949393\n",
            "SoreThroat                     0.547908\n",
            "NauseaVomitting                0.715924\n",
            "Temperature                    0.576248\n",
            "Fatigue                        0.641700\n",
            "dtype: float64\n"
          ]
        }
      ]
    },
    {
      "cell_type": "markdown",
      "source": [
        "Most ML models are unable to deal with missing values. Our first section of feature improvement will begin to deal immediately with these missing values by talking about ways to fill in these missing values to make them usable for our ML model."
      ],
      "metadata": {
        "id": "ZeuFf65zoNMg"
      }
    },
    {
      "cell_type": "code",
      "source": [
        "#check percentage breakdown of our response variable\n",
        "df['Diagnosis'].value_counts(normalize=True)"
      ],
      "metadata": {
        "colab": {
          "base_uri": "https://localhost:8080/"
        },
        "id": "UpBBjSNLoObS",
        "outputId": "340caf1f-c93d-4583-fd19-53f08f51c3f8"
      },
      "execution_count": 25,
      "outputs": [
        {
          "output_type": "execute_result",
          "data": {
            "text/plain": [
              "H1N1       0.723347\n",
              "COVID19    0.276653\n",
              "Name: Diagnosis, dtype: float64"
            ]
          },
          "metadata": {},
          "execution_count": 25
        }
      ]
    },
    {
      "cell_type": "markdown",
      "source": [
        "Our most common category is H1N1, with just over 72% of our response variable belonging to that category. Our null accuracy is 72%—the accuracy of a classification model that just guesses the most common category over and over again. Our absolute baseline for our machine learning pipeline will have to be beating the null accuracy. If our model just guessed H1N1 for every person coming in, technically, that model would be accurate 72% of the time, even though it isn’t really doing anything. But hey, even a guessing ML model is right 72% of the time."
      ],
      "metadata": {
        "id": "cr5ejrLyohUu"
      }
    },
    {
      "cell_type": "code",
      "source": [
        "df.info()"
      ],
      "metadata": {
        "colab": {
          "base_uri": "https://localhost:8080/"
        },
        "id": "sx2jxh7lol0Z",
        "outputId": "847294eb-11c4-4ad0-a5bb-a512709c75a1"
      },
      "execution_count": 26,
      "outputs": [
        {
          "output_type": "stream",
          "name": "stdout",
          "text": [
            "<class 'pandas.core.frame.DataFrame'>\n",
            "RangeIndex: 1482 entries, 0 to 1481\n",
            "Data columns (total 20 columns):\n",
            " #   Column                       Non-Null Count  Dtype  \n",
            "---  ------                       --------------  -----  \n",
            " 0   Diagnosis                    1482 non-null   object \n",
            " 1   InitialPCRDiagnosis          104 non-null    object \n",
            " 2   Age                          1454 non-null   float64\n",
            " 3   Sex                          1406 non-null   object \n",
            " 4   neutrophil                   103 non-null    float64\n",
            " 5   serumLevelsOfWhiteBloodCell  151 non-null    float64\n",
            " 6   lymphocytes                  156 non-null    float64\n",
            " 7   CReactiveProteinLevels       137 non-null    object \n",
            " 8   DurationOfIllness            87 non-null     float64\n",
            " 9   CTscanResults                159 non-null    object \n",
            " 10  RiskFactors                  209 non-null    object \n",
            " 11  GroundGlassOpacity           93 non-null     object \n",
            " 12  Diarrhea                     450 non-null    object \n",
            " 13  Fever                        923 non-null    object \n",
            " 14  Coughing                     859 non-null    object \n",
            " 15  ShortnessOfBreath            75 non-null     object \n",
            " 16  SoreThroat                   670 non-null    object \n",
            " 17  NauseaVomitting              421 non-null    object \n",
            " 18  Temperature                  628 non-null    float64\n",
            " 19  Fatigue                      531 non-null    object \n",
            "dtypes: float64(6), object(14)\n",
            "memory usage: 231.7+ KB\n"
          ]
        }
      ]
    },
    {
      "cell_type": "markdown",
      "source": [
        "As we saw in our EDA, we have a lot of missing data to account for. We have two options for dealing with missing values:\n",
        "\n",
        "We can remove observations and rows that have missing data in them, but this can be a great way to throw out a lot of useful data.\n",
        "\n",
        "We can impute the values that are missing, so we don’t have to throw away the entire observation or row."
      ],
      "metadata": {
        "id": "c3EXA-SQo4oK"
      }
    },
    {
      "cell_type": "code",
      "source": [
        "numeric_types=['float16','float32','float64','int16','int32','int64']\n",
        "numerical_columns=df.select_dtypes(include=numeric_types).columns.tolist()\n",
        "numerical_columns"
      ],
      "metadata": {
        "colab": {
          "base_uri": "https://localhost:8080/"
        },
        "id": "mmTK5TlKo4QB",
        "outputId": "d4ded187-44f8-43e6-cb4a-9bd4bccf1028"
      },
      "execution_count": 27,
      "outputs": [
        {
          "output_type": "execute_result",
          "data": {
            "text/plain": [
              "['Age',\n",
              " 'neutrophil',\n",
              " 'serumLevelsOfWhiteBloodCell',\n",
              " 'lymphocytes',\n",
              " 'DurationOfIllness',\n",
              " 'Temperature']"
            ]
          },
          "metadata": {},
          "execution_count": 27
        }
      ]
    },
    {
      "cell_type": "markdown",
      "source": [
        "We can make use of the SimpleImputer class in scikit-learn to fill in most of the missing values we have. Let’s take a look at a few ways we could handle this."
      ],
      "metadata": {
        "id": "n21-cwVwpgGj"
      }
    },
    {
      "cell_type": "code",
      "source": [
        "from sklearn.impute import SimpleImputer\n",
        "num_impute=SimpleImputer(strategy='mean')\n",
        "print(df['lymphocytes'].head())\n",
        "print(f\"\\n\\nMean of Lymphocytes columns is {df['lymphocytes'].mean()}\\n\\n\")\n",
        "print(num_impute.fit_transform(df[['lymphocytes']])[:5])"
      ],
      "metadata": {
        "colab": {
          "base_uri": "https://localhost:8080/"
        },
        "id": "j8hEZ_bmpZDJ",
        "outputId": "dbd7f55a-a21f-4624-ac97-acfad18faca5"
      },
      "execution_count": 28,
      "outputs": [
        {
          "output_type": "stream",
          "name": "stdout",
          "text": [
            "0   NaN\n",
            "1   NaN\n",
            "2   NaN\n",
            "3   NaN\n",
            "4   NaN\n",
            "Name: lymphocytes, dtype: float64\n",
            "\n",
            "\n",
            "Mean of Lymphocytes columns is 1.8501538461538463\n",
            "\n",
            "\n",
            "[[1.85015385]\n",
            " [1.85015385]\n",
            " [1.85015385]\n",
            " [1.85015385]\n",
            " [1.85015385]]\n"
          ]
        }
      ]
    },
    {
      "cell_type": "markdown",
      "source": [
        "Arbitrary value imputation consists of replacing missing values with a constant value that indicates that this value is not missing at random. Generally, for numerical features we can use values like -1, 0, 99, 999. These values are not technically arbitrary, but they appear arbitrary to the ML model and indicate that this value may not be missing by accident; there may be a reason why it is missing. When choosing an arbitrary value, the only real rule is pick a value that cannot reasonably be among the non-missing values. For example, if the temperature values range from 90-110, then the value 99 isn’t quite arbitrary. A better choice for this would be 999."
      ],
      "metadata": {
        "id": "oFi7aWwfqZB5"
      }
    },
    {
      "cell_type": "code",
      "source": [
        "arbitary_imputer=SimpleImputer(strategy='constant',fill_value=999)\n",
        "arbitary_imputer.fit_transform(df[numerical_columns])"
      ],
      "metadata": {
        "colab": {
          "base_uri": "https://localhost:8080/"
        },
        "id": "rQ556YWUqg7S",
        "outputId": "bebe5494-9a06-4ccd-f9c1-81c4e92ea561"
      },
      "execution_count": 29,
      "outputs": [
        {
          "output_type": "execute_result",
          "data": {
            "text/plain": [
              "array([[ 67.        , 999.        , 999.        , 999.        ,\n",
              "        999.        ,  38.11111111],\n",
              "       [ 29.        , 999.        , 999.        , 999.        ,\n",
              "        999.        , 999.        ],\n",
              "       [ 22.        , 999.        , 999.        , 999.        ,\n",
              "        999.        , 999.        ],\n",
              "       ...,\n",
              "       [  3.        , 999.        ,  15.        , 999.        ,\n",
              "        999.        , 999.        ],\n",
              "       [  4.        , 999.        ,   6.6       , 999.        ,\n",
              "        999.        , 999.        ],\n",
              "       [  6.        , 999.        ,   5.3       , 999.        ,\n",
              "        999.        , 999.        ]])"
            ]
          },
          "metadata": {},
          "execution_count": 29
        }
      ]
    },
    {
      "cell_type": "markdown",
      "source": [
        "End-of-tail imputation is a special type of arbitrary imputation in which the constant value we use to fill in missing values is based on the distribution of the feature. The value is at the end of the distribution. This method still has the benefit of calling out missing values as being different from the rest of the values (which is what imputing with the mean/median does) but also has the added benefit of making the values that we pick more automatically generated and easier to impute"
      ],
      "metadata": {
        "id": "hBY6YSuXrDfC"
      }
    },
    {
      "cell_type": "markdown",
      "source": [],
      "metadata": {
        "id": "GbaOC9cgtyzI"
      }
    },
    {
      "cell_type": "code",
      "source": [
        "df['lymphocytes'].plot(title='Lymphocytes',kind='hist',xlabel='cell/microL'\n",
        "                       )"
      ],
      "metadata": {
        "colab": {
          "base_uri": "https://localhost:8080/",
          "height": 298
        },
        "id": "Rr5G0gVut3Iu",
        "outputId": "c787590c-14fb-47b3-ba67-fa4159c31f82"
      },
      "execution_count": 30,
      "outputs": [
        {
          "output_type": "execute_result",
          "data": {
            "text/plain": [
              "<matplotlib.axes._subplots.AxesSubplot at 0x7f4053ff60d0>"
            ]
          },
          "metadata": {},
          "execution_count": 30
        },
        {
          "output_type": "display_data",
          "data": {
            "text/plain": [
              "<Figure size 432x288 with 1 Axes>"
            ],
            "image/png": "[encoded data removed]"
          },
          "metadata": {
            "needs_background": "light"
          }
        }
      ]
    },
    {
      "cell_type": "markdown",
      "source": [
        "The original data show a right-skewed distribution with a bump on the left side of the distribution and a tail on the right-hand side. Let’s import the EndOfTailImputer class now and impute values into the feature, using the default Gaussian method, which is computed by the following formula:"
      ],
      "metadata": {
        "id": "VWGeq8ZVuI_g"
      }
    },
    {
      "cell_type": "code",
      "source": [
        "!pip install -U feature-engine\n",
        "from feature_engine.imputation import EndTailImputer "
      ],
      "metadata": {
        "colab": {
          "base_uri": "https://localhost:8080/"
        },
        "id": "W62gVFuEuUpN",
        "outputId": "40efbcf5-eedd-4f01-dbac-29c83facf6fd"
      },
      "execution_count": 31,
      "outputs": [
        {
          "output_type": "stream",
          "name": "stdout",
          "text": [
            "Looking in indexes: https://pypi.org/simple, https://us-python.pkg.dev/colab-wheels/public/simple/\n",
            "Requirement already satisfied: feature-engine in /usr/local/lib/python3.8/dist-packages (1.5.2)\n",
            "Requirement already satisfied: numpy>=1.18.2 in /usr/local/lib/python3.8/dist-packages (from feature-engine) (1.21.6)\n",
            "Requirement already satisfied: scikit-learn>=1.0.0 in /usr/local/lib/python3.8/dist-packages (from feature-engine) (1.0.2)\n",
            "Requirement already satisfied: scipy>=1.4.1 in /usr/local/lib/python3.8/dist-packages (from feature-engine) (1.7.3)\n",
            "Requirement already satisfied: statsmodels>=0.11.1 in /usr/local/lib/python3.8/dist-packages (from feature-engine) (0.12.2)\n",
            "Requirement already satisfied: pandas>=1.0.3 in /usr/local/lib/python3.8/dist-packages (from feature-engine) (1.3.5)\n",
            "Requirement already satisfied: pytz>=2017.3 in /usr/local/lib/python3.8/dist-packages (from pandas>=1.0.3->feature-engine) (2022.7)\n",
            "Requirement already satisfied: python-dateutil>=2.7.3 in /usr/local/lib/python3.8/dist-packages (from pandas>=1.0.3->feature-engine) (2.8.2)\n",
            "Requirement already satisfied: joblib>=0.11 in /usr/local/lib/python3.8/dist-packages (from scikit-learn>=1.0.0->feature-engine) (1.2.0)\n",
            "Requirement already satisfied: threadpoolctl>=2.0.0 in /usr/local/lib/python3.8/dist-packages (from scikit-learn>=1.0.0->feature-engine) (3.1.0)\n",
            "Requirement already satisfied: patsy>=0.5 in /usr/local/lib/python3.8/dist-packages (from statsmodels>=0.11.1->feature-engine) (0.5.3)\n",
            "Requirement already satisfied: six in /usr/local/lib/python3.8/dist-packages (from patsy>=0.5->statsmodels>=0.11.1->feature-engine) (1.15.0)\n"
          ]
        }
      ]
    },
    {
      "cell_type": "code",
      "source": [
        "EndTailImputer().fit_transform(df[['lymphocytes']]).plot(\n",
        "    title='Lymphocytes(imputed)',kind='hist',xlabel='cells/microL'\n",
        ")"
      ],
      "metadata": {
        "colab": {
          "base_uri": "https://localhost:8080/",
          "height": 298
        },
        "id": "RyxnOPi3v51X",
        "outputId": "7699022a-8f34-4419-b9c6-d0fb269c9247"
      },
      "execution_count": 32,
      "outputs": [
        {
          "output_type": "execute_result",
          "data": {
            "text/plain": [
              "<matplotlib.axes._subplots.AxesSubplot at 0x7f4053fcb910>"
            ]
          },
          "metadata": {},
          "execution_count": 32
        },
        {
          "output_type": "display_data",
          "data": {
            "text/plain": [
              "<Figure size 432x288 with 1 Axes>"
            ],
            "image/png": "[encoded data removed]"
          },
          "metadata": {
            "needs_background": "light"
          }
        }
      ]
    },
    {
      "cell_type": "markdown",
      "source": [
        "Imputing missing qualitative data"
      ],
      "metadata": {
        "id": "NRJQsrQ6wThO"
      }
    },
    {
      "cell_type": "code",
      "source": [
        "categorical_types=['O']\n",
        "categorical_columns=df.select_dtypes(include=categorical_types).columns.tolist()\n",
        "categorical_columns.remove('Diagnosis')\n",
        "for categorical_column in categorical_columns:\n",
        "  print('=======')\n",
        "  print(categorical_column)\n",
        "  print(\"=======\")\n",
        "  print(df[categorical_column].value_counts(dropna=False))\n",
        "\n"
      ],
      "metadata": {
        "colab": {
          "base_uri": "https://localhost:8080/"
        },
        "id": "r5DiF2iYCq7F",
        "outputId": "da9cb8ec-7842-4823-989d-4536fa11a0df"
      },
      "execution_count": 34,
      "outputs": [
        {
          "output_type": "stream",
          "name": "stdout",
          "text": [
            "=======\n",
            "InitialPCRDiagnosis\n",
            "=======\n",
            "NaN    1378\n",
            "Yes     100\n",
            "No        4\n",
            "Name: InitialPCRDiagnosis, dtype: int64\n",
            "=======\n",
            "Sex\n",
            "=======\n",
            "M      748\n",
            "F      658\n",
            "NaN     76\n",
            "Name: Sex, dtype: int64\n",
            "=======\n",
            "CReactiveProteinLevels\n",
            "=======\n",
            "NaN           1345\n",
            "8                3\n",
            "0.5              3\n",
            "15               3\n",
            "111              2\n",
            "34.64            2\n",
            "84               2\n",
            "0.4              2\n",
            "1.8              2\n",
            "0.9              2\n",
            "38.37            2\n",
            "0.75             2\n",
            "9.4              2\n",
            "0.2              2\n",
            "5.6              2\n",
            "12.2             1\n",
            "6.6              1\n",
            "6.65             1\n",
            "11.5             1\n",
            "3.49             1\n",
            "108              1\n",
            "87.9             1\n",
            "23.6             1\n",
            "8.2              1\n",
            "57.8             1\n",
            "110.2            1\n",
            "26.08            1\n",
            "5.1              1\n",
            "1.2              1\n",
            "3.3              1\n",
            "5.2              1\n",
            "44.9             1\n",
            "4.9              1\n",
            "34.2             1\n",
            "55.6             1\n",
            "2.58             1\n",
            "87.93            1\n",
            "37.13            1\n",
            "104.3            1\n",
            "9.56             1\n",
            "0.7              1\n",
            "28.4             1\n",
            "85               1\n",
            "33.2             1\n",
            "13               1\n",
            "35.6             1\n",
            "5                1\n",
            "5.8              1\n",
            "53.6             1\n",
            "89.94            1\n",
            "52.95            1\n",
            "38.6             1\n",
            "52.6             1\n",
            "4.8              1\n",
            "3.1              1\n",
            "7                1\n",
            "35               1\n",
            "16               1\n",
            "15.1             1\n",
            "22.66            1\n",
            "0.94             1\n",
            "20.24            1\n",
            "9.46             1\n",
            "24.6             1\n",
            "22.56            1\n",
            "26.6             1\n",
            "62.6             1\n",
            "5.66             1\n",
            "14.9             1\n",
            "19.94            1\n",
            "35.43            1\n",
            "9.5              1\n",
            "6.8              1\n",
            "21.5             1\n",
            "136.51           1\n",
            "73.99            1\n",
            "33.57            1\n",
            "7.8              1\n",
            "22.5             1\n",
            "202.03           1\n",
            "66.07            1\n",
            "41.4             1\n",
            "10.14            1\n",
            "217.17           1\n",
            "0.69             1\n",
            "0.8              1\n",
            "12.7             1\n",
            "0.85             1\n",
            "16.58            1\n",
            "2.2              1\n",
            "2.04             1\n",
            "9.14             1\n",
            "8.3              1\n",
            "158.95           1\n",
            "32.73            1\n",
            "24.61            1\n",
            "69.93            1\n",
            "29.2             1\n",
            "49.9             1\n",
            "11.2             1\n",
            "19.6             1\n",
            "40               1\n",
            "1.29             1\n",
            "9.9              1\n",
            "1                1\n",
            "27.02            1\n",
            "103              1\n",
            "57.9             1\n",
            "6.48             1\n",
            "99.6             1\n",
            "26.1             1\n",
            "2.85             1\n",
            "1.6              1\n",
            "6.4              1\n",
            "1.47             1\n",
            "8.88             1\n",
            "5.78             1\n",
            "67.62            1\n",
            "13.2 mg/dL       1\n",
            "21.27            1\n",
            "0.6              1\n",
            "Name: CReactiveProteinLevels, dtype: int64\n",
            "=======\n",
            "CTscanResults\n",
            "=======\n",
            "NaN    1323\n",
            "Yes     144\n",
            "No       15\n",
            "Name: CTscanResults, dtype: int64\n",
            "=======\n",
            "RiskFactors\n",
            "=======\n",
            "NaN                                                                   1273\n",
            "asthma                                                                  36\n",
            "pneumonia                                                               21\n",
            "immuno                                                                  21\n",
            "diabetes                                                                16\n",
            "chronic                                                                 11\n",
            "congestive, diabetes, Renal Disease                                      7\n",
            "influenza                                                                7\n",
            "Hypertension                                                             6\n",
            "asthma, diabetes                                                         5\n",
            "chronic, diabetes                                                        5\n",
            "Heart Disease                                                            5\n",
            "Renal Disease                                                            4\n",
            "asthma, respiratory disease                                              3\n",
            "Hypertension, diabetes                                                   2\n",
            "Fetal distress                                                           2\n",
            "PROM                                                                     2\n",
            "respiratory disease                                                      2\n",
            "Heart Disease,Renal Disease                                              2\n",
            "asthma, respiratory disease, hematological disease                       2\n",
            "lung cancer                                                              2\n",
            "diabetes, Renal Disease                                                  2\n",
            "athero                                                                   2\n",
            "asthma, Renal Disease                                                    2\n",
            "asthma, immuno                                                           2\n",
            "chronic, diabetes, athero                                                2\n",
            "immuno, chronic                                                          1\n",
            "Hypertension, begin tumor (removed)                                      1\n",
            "Atopic dermatitis and repetitive respiratory infections                  1\n",
            "chronic spontaneous urticaria                                            1\n",
            "Hypertension and COPD                                                    1\n",
            "pneumomediastinum and subcutaneous emphysema                             1\n",
            "Chronic liver dieseas, myxoma of abdominal cavity                        1\n",
            "diabetes, coronary eart disease, lung cancer                             1\n",
            "Chronic sinusitis                                                        1\n",
            "hypertention                                                             1\n",
            "diabetes,Hypertension                                                    1\n",
            "chronic obstructive pulmonary disease                                    1\n",
            "hypothyroidism                                                           1\n",
            "coronary artery disease                                                  1\n",
            "Hypertension                                                             1\n",
            "hyperthyroidism                                                          1\n",
            "Renal Disease, athero                                                    1\n",
            "pneumonia                                                                1\n",
            "kidney transplant recipient                                              1\n",
            "asthma, congestive, diabetes                                             1\n",
            "diabetes, athero                                                         1\n",
            "Chronic Neurological Disorders                                           1\n",
            "Chronic Endrocrine Disorder, chronic                                     1\n",
            "chronic, immuno                                                          1\n",
            "diabetes, obesity                                                        1\n",
            " Chronic Liver Disorder, chronic                                         1\n",
            "asthma, chronic                                                          1\n",
            "gastrectomy                                                              1\n",
            "HepB                                                                     1\n",
            "Pre-eclampsia                                                            1\n",
            "obesity                                                                  1\n",
            "Fatty Liver                                                              1\n",
            "asthma, chronic, diabetes                                                1\n",
            "diabetes, Hypertension                                                   1\n",
            "Hypertension, Heart Disease, chronic obstructive pulmonary disease       1\n",
            "rheumatoid arthritis                                                     1\n",
            "hematological disease, immuno, Renal Disease                             1\n",
            "Lung Disease                                                             1\n",
            "Name: RiskFactors, dtype: int64\n",
            "=======\n",
            "GroundGlassOpacity\n",
            "=======\n",
            "NaN    1389\n",
            "Yes      90\n",
            "No        3\n",
            "Name: GroundGlassOpacity, dtype: int64\n",
            "=======\n",
            "Diarrhea\n",
            "=======\n",
            "NaN    1032\n",
            "No      340\n",
            "Yes     110\n",
            "Name: Diarrhea, dtype: int64\n",
            "=======\n",
            "Fever\n",
            "=======\n",
            "Yes    777\n",
            "NaN    559\n",
            "No     146\n",
            "Name: Fever, dtype: int64\n",
            "=======\n",
            "Coughing\n",
            "=======\n",
            "Yes    745\n",
            "NaN    623\n",
            "No     114\n",
            "Name: Coughing, dtype: int64\n",
            "=======\n",
            "ShortnessOfBreath\n",
            "=======\n",
            "NaN    1407\n",
            "Yes      45\n",
            "No       30\n",
            "Name: ShortnessOfBreath, dtype: int64\n",
            "=======\n",
            "SoreThroat\n",
            "=======\n",
            "NaN    812\n",
            "Yes    407\n",
            "No     263\n",
            "Name: SoreThroat, dtype: int64\n",
            "=======\n",
            "NauseaVomitting\n",
            "=======\n",
            "NaN    1061\n",
            "No      319\n",
            "Yes     102\n",
            "Name: NauseaVomitting, dtype: int64\n",
            "=======\n",
            "Fatigue\n",
            "=======\n",
            "NaN    951\n",
            "Yes    348\n",
            "No     183\n",
            "Name: Fatigue, dtype: int64\n"
          ]
        }
      ]
    },
    {
      "cell_type": "markdown",
      "source": [
        "Create a new column called Female, which will be True if the Sex column indicated Female and False, otherwise.\n",
        "\n",
        "Use the replace feature in pandas to replace Yes with True and No with False everywhere in our dataset."
      ],
      "metadata": {
        "id": "BP3qYG27Dqai"
      }
    },
    {
      "cell_type": "code",
      "source": [
        "df['Female']=df['Sex']=='F'\n",
        "del df['Sex']\n",
        "df=df.replace({'Yes':True,'No':False})"
      ],
      "metadata": {
        "id": "oR5HUsfgDrUb"
      },
      "execution_count": 35,
      "outputs": []
    },
    {
      "cell_type": "markdown",
      "source": [
        "As with numerical data, there are many ways we can impute missing categorical data. One such method is called the most-frequent category imputation or mode imputation. As the name suggests, we simply replace missing values with the most common non-missing value:"
      ],
      "metadata": {
        "id": "ScY3qAI4EPkc"
      }
    },
    {
      "cell_type": "code",
      "source": [
        "cat_impute=SimpleImputer(strategy='most_frequent')\n",
        "print(df['Coughing'].head())\n",
        "print(cat_impute.fit_transform(df[['Coughing']])[:5])"
      ],
      "metadata": {
        "colab": {
          "base_uri": "https://localhost:8080/"
        },
        "id": "8QZjsm_BEQ4U",
        "outputId": "3f9f7fe7-cbe4-4107-8438-6ea6b224ee8c"
      },
      "execution_count": 38,
      "outputs": [
        {
          "output_type": "stream",
          "name": "stdout",
          "text": [
            "0    True\n",
            "1     NaN\n",
            "2     NaN\n",
            "3    True\n",
            "4     NaN\n",
            "Name: Coughing, dtype: object\n",
            "[[True]\n",
            " [True]\n",
            " [True]\n",
            " [True]\n",
            " [True]]\n"
          ]
        }
      ]
    },
    {
      "cell_type": "markdown",
      "source": [
        "Log transforms are probably the most common feature transformation technique that replaces each value in a column x with the value log(1 + x). Why 1 + x and not just x? One reason is that we want to be able to handle 0 values, and log(0) is undefined. In fact, the log transform only works on strictly positive data.The log transform’s overall purpose is to make the data look more normal. This is preferred in many cases, mostly because data being normal is one of the most overlooked assumptions in data science. Many underlying tests and algorithms assume that data are normally distributed, including chi-squared tests and logistic regressions. Another reason we would prefer to transform our skewed data into normally distributed data is that the transformation tends to leave behind fewer outliers, and machine learning algorithms don’t tend to work well with outliers."
      ],
      "metadata": {
        "id": "004e0AdOFCEU"
      }
    },
    {
      "cell_type": "code",
      "source": [],
      "metadata": {
        "id": "xUYsc1QlFK79"
      },
      "execution_count": null,
      "outputs": []
    }
  ]
}