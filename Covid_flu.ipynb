{
  "nbformat": 4,
  "nbformat_minor": 0,
  "metadata": {
    "colab": {
      "provenance": [],
      "authorship_tag": "ABX9TyOFrWZcbhhy+3dYdI3QLEoN",
      "include_colab_link": true
    },
    "kernelspec": {
      "name": "python3",
      "display_name": "Python 3"
    },
    "language_info": {
      "name": "python"
    }
  },
  "cells": [
    {
      "cell_type": "markdown",
      "metadata": {
        "id": "view-in-github",
        "colab_type": "text"
      },
      "source": [
        "<a href=\"https://colab.research.google.com/github/Chirag314/EDA/blob/main/Covid_flu.ipynb\" target=\"_parent\"><img src=\"https://colab.research.google.com/assets/colab-badge.svg\" alt=\"Open In Colab\"/></a>"
      ]
    },
    {
      "cell_type": "markdown",
      "source": [
        "Covid+flue dataset from book -Feature Engineering bootcamp"
      ],
      "metadata": {
        "id": "BEpsSTpAtqL7"
      }
    },
    {
      "cell_type": "code",
      "source": [
        "# Read data from github. Use raw format and copy url# Note normal url and raw url will be different.\n",
        "import pandas as pd\n",
        "pd.options.display.max_rows=None\n",
        "pd.options.display.max_columns=None\n",
        "url = 'https://raw.githubusercontent.com/sinanuozdemir/feature_engineering_bookcamp/main/data/covid_flu.csv'\n",
        "df= pd.read_csv(url)\n",
        "#df = pd.read_csv(url)\n",
        "print(df.head(5))"
      ],
      "metadata": {
        "id": "qaeY-HS-vGRE",
        "colab": {
          "base_uri": "https://localhost:8080/"
        },
        "outputId": "175d1b68-b416-48f2-c4b9-0163f84173a7"
      },
      "execution_count": 1,
      "outputs": [
        {
          "output_type": "stream",
          "name": "stdout",
          "text": [
            "  Diagnosis InitialPCRDiagnosis   Age Sex  neutrophil  \\\n",
            "0      H1N1                 NaN  67.0   F         NaN   \n",
            "1      H1N1                 NaN  29.0   M         NaN   \n",
            "2      H1N1                 NaN  22.0   F         NaN   \n",
            "3      H1N1                 NaN  20.0   F         NaN   \n",
            "4      H1N1                 NaN  21.0   M         NaN   \n",
            "\n",
            "   serumLevelsOfWhiteBloodCell  lymphocytes CReactiveProteinLevels  \\\n",
            "0                          NaN          NaN                    NaN   \n",
            "1                          NaN          NaN                    NaN   \n",
            "2                          NaN          NaN                    NaN   \n",
            "3                          NaN          NaN                    NaN   \n",
            "4                          NaN          NaN                    NaN   \n",
            "\n",
            "   DurationOfIllness CTscanResults RiskFactors GroundGlassOpacity Diarrhea  \\\n",
            "0                NaN           NaN         NaN                NaN      NaN   \n",
            "1                NaN           NaN         NaN                NaN      NaN   \n",
            "2                NaN           NaN         NaN                NaN      NaN   \n",
            "3                NaN           NaN      immuno                NaN      NaN   \n",
            "4                NaN           NaN         NaN                NaN      NaN   \n",
            "\n",
            "  Fever Coughing ShortnessOfBreath SoreThroat NauseaVomitting  Temperature  \\\n",
            "0   Yes      Yes               NaN         No             NaN    38.111111   \n",
            "1   NaN      NaN               NaN        NaN             NaN          NaN   \n",
            "2   NaN      NaN               NaN        NaN             NaN          NaN   \n",
            "3   Yes      Yes               NaN         No             NaN    36.555556   \n",
            "4   NaN      NaN               NaN        NaN             NaN          NaN   \n",
            "\n",
            "  Fatigue  \n",
            "0      No  \n",
            "1     NaN  \n",
            "2     NaN  \n",
            "3     Yes  \n",
            "4     NaN  \n"
          ]
        }
      ]
    },
    {
      "cell_type": "code",
      "source": [
        "# Check missing values\n",
        "print(df.isnull().mean())"
      ],
      "metadata": {
        "colab": {
          "base_uri": "https://localhost:8080/"
        },
        "id": "7RwZ7CZin1Qo",
        "outputId": "adef12fb-cf6b-4759-c397-304e5ae1586e"
      },
      "execution_count": 3,
      "outputs": [
        {
          "output_type": "stream",
          "name": "stdout",
          "text": [
            "Diagnosis                      0.000000\n",
            "InitialPCRDiagnosis            0.929825\n",
            "Age                            0.018893\n",
            "Sex                            0.051282\n",
            "neutrophil                     0.930499\n",
            "serumLevelsOfWhiteBloodCell    0.898111\n",
            "lymphocytes                    0.894737\n",
            "CReactiveProteinLevels         0.907557\n",
            "DurationOfIllness              0.941296\n",
            "CTscanResults                  0.892713\n",
            "RiskFactors                    0.858974\n",
            "GroundGlassOpacity             0.937247\n",
            "Diarrhea                       0.696356\n",
            "Fever                          0.377193\n",
            "Coughing                       0.420378\n",
            "ShortnessOfBreath              0.949393\n",
            "SoreThroat                     0.547908\n",
            "NauseaVomitting                0.715924\n",
            "Temperature                    0.576248\n",
            "Fatigue                        0.641700\n",
            "dtype: float64\n"
          ]
        }
      ]
    },
    {
      "cell_type": "markdown",
      "source": [
        "Most ML models are unable to deal with missing values. Our first section of feature improvement will begin to deal immediately with these missing values by talking about ways to fill in these missing values to make them usable for our ML model."
      ],
      "metadata": {
        "id": "ZeuFf65zoNMg"
      }
    },
    {
      "cell_type": "code",
      "source": [
        "#check percentage breakdown of our response variable\n",
        "df['Diagnosis'].value_counts(normalize=True)"
      ],
      "metadata": {
        "colab": {
          "base_uri": "https://localhost:8080/"
        },
        "id": "UpBBjSNLoObS",
        "outputId": "422fc1ac-df40-47fd-eb89-78026e886af4"
      },
      "execution_count": 4,
      "outputs": [
        {
          "output_type": "execute_result",
          "data": {
            "text/plain": [
              "H1N1       0.723347\n",
              "COVID19    0.276653\n",
              "Name: Diagnosis, dtype: float64"
            ]
          },
          "metadata": {},
          "execution_count": 4
        }
      ]
    },
    {
      "cell_type": "markdown",
      "source": [
        "Our most common category is H1N1, with just over 72% of our response variable belonging to that category. Our null accuracy is 72%—the accuracy of a classification model that just guesses the most common category over and over again. Our absolute baseline for our machine learning pipeline will have to be beating the null accuracy. If our model just guessed H1N1 for every person coming in, technically, that model would be accurate 72% of the time, even though it isn’t really doing anything. But hey, even a guessing ML model is right 72% of the time."
      ],
      "metadata": {
        "id": "cr5ejrLyohUu"
      }
    },
    {
      "cell_type": "code",
      "source": [
        "df.info()"
      ],
      "metadata": {
        "colab": {
          "base_uri": "https://localhost:8080/"
        },
        "id": "sx2jxh7lol0Z",
        "outputId": "bb4ad3ee-7663-427e-be20-bbe1558033cb"
      },
      "execution_count": 5,
      "outputs": [
        {
          "output_type": "stream",
          "name": "stdout",
          "text": [
            "<class 'pandas.core.frame.DataFrame'>\n",
            "RangeIndex: 1482 entries, 0 to 1481\n",
            "Data columns (total 20 columns):\n",
            " #   Column                       Non-Null Count  Dtype  \n",
            "---  ------                       --------------  -----  \n",
            " 0   Diagnosis                    1482 non-null   object \n",
            " 1   InitialPCRDiagnosis          104 non-null    object \n",
            " 2   Age                          1454 non-null   float64\n",
            " 3   Sex                          1406 non-null   object \n",
            " 4   neutrophil                   103 non-null    float64\n",
            " 5   serumLevelsOfWhiteBloodCell  151 non-null    float64\n",
            " 6   lymphocytes                  156 non-null    float64\n",
            " 7   CReactiveProteinLevels       137 non-null    object \n",
            " 8   DurationOfIllness            87 non-null     float64\n",
            " 9   CTscanResults                159 non-null    object \n",
            " 10  RiskFactors                  209 non-null    object \n",
            " 11  GroundGlassOpacity           93 non-null     object \n",
            " 12  Diarrhea                     450 non-null    object \n",
            " 13  Fever                        923 non-null    object \n",
            " 14  Coughing                     859 non-null    object \n",
            " 15  ShortnessOfBreath            75 non-null     object \n",
            " 16  SoreThroat                   670 non-null    object \n",
            " 17  NauseaVomitting              421 non-null    object \n",
            " 18  Temperature                  628 non-null    float64\n",
            " 19  Fatigue                      531 non-null    object \n",
            "dtypes: float64(6), object(14)\n",
            "memory usage: 231.7+ KB\n"
          ]
        }
      ]
    },
    {
      "cell_type": "markdown",
      "source": [
        "As we saw in our EDA, we have a lot of missing data to account for. We have two options for dealing with missing values:\n",
        "\n",
        "We can remove observations and rows that have missing data in them, but this can be a great way to throw out a lot of useful data.\n",
        "\n",
        "We can impute the values that are missing, so we don’t have to throw away the entire observation or row."
      ],
      "metadata": {
        "id": "c3EXA-SQo4oK"
      }
    },
    {
      "cell_type": "code",
      "source": [
        "numeric_types=['float16','float32','float64','int16','int32','int64']\n",
        "numerical_columns=df.select_dtypes(include=numeric_types).columns.tolist()\n",
        "numerical_columns"
      ],
      "metadata": {
        "colab": {
          "base_uri": "https://localhost:8080/"
        },
        "id": "mmTK5TlKo4QB",
        "outputId": "2a3de8fe-0664-4576-861d-ddeee428a2f5"
      },
      "execution_count": 10,
      "outputs": [
        {
          "output_type": "execute_result",
          "data": {
            "text/plain": [
              "['Age',\n",
              " 'neutrophil',\n",
              " 'serumLevelsOfWhiteBloodCell',\n",
              " 'lymphocytes',\n",
              " 'DurationOfIllness',\n",
              " 'Temperature']"
            ]
          },
          "metadata": {},
          "execution_count": 10
        }
      ]
    },
    {
      "cell_type": "markdown",
      "source": [
        "We can make use of the SimpleImputer class in scikit-learn to fill in most of the missing values we have. Let’s take a look at a few ways we could handle this."
      ],
      "metadata": {
        "id": "n21-cwVwpgGj"
      }
    },
    {
      "cell_type": "code",
      "source": [
        "from sklearn.impute import SimpleImputer\n",
        "num_impute=SimpleImputer(strategy='mean')\n",
        "print(df['lymphocytes'].head())\n",
        "print(f\"\\n\\nMean of Lymphocytes columns is {df['lymphocytes'].mean()}\\n\\n\")\n",
        "print(num_impute.fit_transform(df[['lymphocytes']])[:5])"
      ],
      "metadata": {
        "colab": {
          "base_uri": "https://localhost:8080/"
        },
        "id": "j8hEZ_bmpZDJ",
        "outputId": "2bf2f07f-b8ce-4d64-b7c3-899569b2dc6c"
      },
      "execution_count": 11,
      "outputs": [
        {
          "output_type": "stream",
          "name": "stdout",
          "text": [
            "0   NaN\n",
            "1   NaN\n",
            "2   NaN\n",
            "3   NaN\n",
            "4   NaN\n",
            "Name: lymphocytes, dtype: float64\n",
            "\n",
            "\n",
            "Mean of Lymphocytes columns is 1.8501538461538463\n",
            "\n",
            "\n",
            "[[1.85015385]\n",
            " [1.85015385]\n",
            " [1.85015385]\n",
            " [1.85015385]\n",
            " [1.85015385]]\n"
          ]
        }
      ]
    },
    {
      "cell_type": "markdown",
      "source": [
        "Arbitrary value imputation consists of replacing missing values with a constant value that indicates that this value is not missing at random. Generally, for numerical features we can use values like -1, 0, 99, 999. These values are not technically arbitrary, but they appear arbitrary to the ML model and indicate that this value may not be missing by accident; there may be a reason why it is missing. When choosing an arbitrary value, the only real rule is pick a value that cannot reasonably be among the non-missing values. For example, if the temperature values range from 90-110, then the value 99 isn’t quite arbitrary. A better choice for this would be 999."
      ],
      "metadata": {
        "id": "oFi7aWwfqZB5"
      }
    },
    {
      "cell_type": "code",
      "source": [
        "arbitary_imputer=SimpleImputer(strategy='constant',fill_value=999)\n",
        "arbitary_imputer.fit_transform(df[numerical_columns])"
      ],
      "metadata": {
        "colab": {
          "base_uri": "https://localhost:8080/"
        },
        "id": "rQ556YWUqg7S",
        "outputId": "119a451e-cce2-4e42-f6ac-84abbaeedd81"
      },
      "execution_count": 12,
      "outputs": [
        {
          "output_type": "execute_result",
          "data": {
            "text/plain": [
              "array([[ 67.        , 999.        , 999.        , 999.        ,\n",
              "        999.        ,  38.11111111],\n",
              "       [ 29.        , 999.        , 999.        , 999.        ,\n",
              "        999.        , 999.        ],\n",
              "       [ 22.        , 999.        , 999.        , 999.        ,\n",
              "        999.        , 999.        ],\n",
              "       ...,\n",
              "       [  3.        , 999.        ,  15.        , 999.        ,\n",
              "        999.        , 999.        ],\n",
              "       [  4.        , 999.        ,   6.6       , 999.        ,\n",
              "        999.        , 999.        ],\n",
              "       [  6.        , 999.        ,   5.3       , 999.        ,\n",
              "        999.        , 999.        ]])"
            ]
          },
          "metadata": {},
          "execution_count": 12
        }
      ]
    },
    {
      "cell_type": "markdown",
      "source": [
        "End-of-tail imputation is a special type of arbitrary imputation in which the constant value we use to fill in missing values is based on the distribution of the feature. The value is at the end of the distribution. This method still has the benefit of calling out missing values as being different from the rest of the values (which is what imputing with the mean/median does) but also has the added benefit of making the values that we pick more automatically generated and easier to impute"
      ],
      "metadata": {
        "id": "hBY6YSuXrDfC"
      }
    },
    {
      "cell_type": "markdown",
      "source": [],
      "metadata": {
        "id": "GbaOC9cgtyzI"
      }
    },
    {
      "cell_type": "code",
      "source": [
        "df['lymphocytes'].plot(title='Lymphocytes',kind='hist',xlabel='cell/microL'\n",
        "                       )"
      ],
      "metadata": {
        "colab": {
          "base_uri": "https://localhost:8080/",
          "height": 298
        },
        "id": "Rr5G0gVut3Iu",
        "outputId": "db650512-9214-493a-e600-d857084bfa80"
      },
      "execution_count": 13,
      "outputs": [
        {
          "output_type": "execute_result",
          "data": {
            "text/plain": [
              "<matplotlib.axes._subplots.AxesSubplot at 0x7f4054686610>"
            ]
          },
          "metadata": {},
          "execution_count": 13
        },
        {
          "output_type": "display_data",
          "data": {
            "text/plain": [
              "<Figure size 432x288 with 1 Axes>"
            ],
            "image/png": "[encoded data removed]"
          },
          "metadata": {
            "needs_background": "light"
          }
        }
      ]
    },
    {
      "cell_type": "markdown",
      "source": [
        "The original data show a right-skewed distribution with a bump on the left side of the distribution and a tail on the right-hand side. Let’s import the EndOfTailImputer class now and impute values into the feature, using the default Gaussian method, which is computed by the following formula:"
      ],
      "metadata": {
        "id": "VWGeq8ZVuI_g"
      }
    }
  ]
}